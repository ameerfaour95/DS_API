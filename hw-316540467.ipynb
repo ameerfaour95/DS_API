{
 "cells": [
  {
   "cell_type": "markdown",
   "metadata": {},
   "source": [
    "## Ameer Faour - 316540467\n",
    "---"
   ]
  },
  {
   "cell_type": "code",
   "execution_count": 1627,
   "metadata": {},
   "outputs": [],
   "source": [
    "import requests\n",
    "import json"
   ]
  },
  {
   "cell_type": "markdown",
   "metadata": {},
   "source": [
    "### Reading the file from my personal folder"
   ]
  },
  {
   "cell_type": "code",
   "execution_count": 1628,
   "metadata": {},
   "outputs": [
    {
     "data": {
      "text/plain": [
       "['Istanbul', 'Amsterdam', 'Valletta', 'Basel', 'Doha']"
      ]
     },
     "execution_count": 1628,
     "metadata": {},
     "output_type": "execute_result"
    }
   ],
   "source": [
    "mydata=open('C:/Users/user/Desktop/עמיר/אריאל/הנדסת תעשייה וניהול/שנה 2/סמסטר ב/מבוא לידע ונתונים/מטלות/מטלה 4/dests.txt')\n",
    "data=mydata.read()\n",
    "data=data.split('\\n')\n",
    "data"
   ]
  },
  {
   "cell_type": "code",
   "execution_count": 1629,
   "metadata": {},
   "outputs": [],
   "source": [
    "dict_ans=dict()\n",
    "origins='Jerusalem,Israel'\n",
    "api_key='AI12345678' #Fake API"
   ]
  },
  {
   "cell_type": "markdown",
   "metadata": {},
   "source": [
    "### Saving the Distance of the destination from Jerusalem in kilometers in the dictionary (dict_ans)"
   ]
  },
  {
   "cell_type": "code",
   "execution_count": 1630,
   "metadata": {},
   "outputs": [],
   "source": [
    "info=()\n",
    "for i in range(len(data)):\n",
    "    url1='https://maps.googleapis.com/maps/api/distancematrix/json?destinations=%s&origins=%s&key=%s' % (data[i],origins,api_key)\n",
    "    res1 = requests.get(url1).json()\n",
    "    detail_km=res1['rows'][0]['elements'][0]['distance']['text']\n",
    "    info=info+(detail_km,)\n",
    "    dict_ans[data[i]]=info\n",
    "    info=()"
   ]
  },
  {
   "cell_type": "markdown",
   "metadata": {},
   "source": [
    "### Adding to the dictionary the arrival time from Jerusalem to the destination in  and minutes"
   ]
  },
  {
   "cell_type": "code",
   "execution_count": 1631,
   "metadata": {},
   "outputs": [],
   "source": [
    "for a in range(len(data)):\n",
    "    t_min=0\n",
    "    t_hr=0\n",
    "    url1='https://maps.googleapis.com/maps/api/distancematrix/json?destinations=%s&origins=%s&key=%s' % (data[a],origins,api_key)\n",
    "    res1 = requests.get(url1).json()\n",
    "    detArrival=res1['rows'][0]['elements'][0]['duration']['value']\n",
    "    t_min=detArrival/60\n",
    "    if t_min%60==0:\n",
    "        t_hr=int(t_min/60)\n",
    "        t_min=0\n",
    "    else:\n",
    "        t_hr=int(t_min/60)\n",
    "        t_min=int(t_min%60)\n",
    "    tim='{t_hr} hrs & {t_min} min'.format(t_hr=t_hr,t_min=t_min)\n",
    "    dict_ans[data[a]]=dict_ans[data[a]]+(tim,)"
   ]
  },
  {
   "cell_type": "markdown",
   "metadata": {},
   "source": [
    "### Adding to the dictionary the longitude and latitude  of the destination"
   ]
  },
  {
   "cell_type": "code",
   "execution_count": 1632,
   "metadata": {},
   "outputs": [],
   "source": [
    "for indx in range(len(data)):\n",
    "    lng=0\n",
    "    lat=0\n",
    "    url2=\"https://maps.googleapis.com/maps/api/geocode/json?address=%s&key=%s\" % (data[indx],api_key)\n",
    "    res2 = requests.get(url2).json()\n",
    "    detail_lng=res2['results'][0]['geometry']['location']['lng']\n",
    "    detail_lng=str(detail_lng)\n",
    "    detail_lat=res2['results'][0]['geometry']['location']['lat']\n",
    "    detail_lat=str(detail_lat)\n",
    "    dict_ans[data[indx]]=dict_ans[data[indx]]+(detail_lng,detail_lat,)"
   ]
  },
  {
   "cell_type": "markdown",
   "metadata": {},
   "source": [
    "# Answer:\n",
    "### The dictionary with all the details by order (The values for each city is in tuple):"
   ]
  },
  {
   "cell_type": "code",
   "execution_count": 1634,
   "metadata": {},
   "outputs": [
    {
     "data": {
      "text/plain": [
       "{'Istanbul': ('1,809 km', '20 hrs & 38 min', '28.9783589', '41.0082376'),\n",
       " 'Amsterdam': ('4,528 km', '47 hrs & 28 min', '4.9041389', '52.3675734'),\n",
       " 'Valletta': ('3,783 km', '50 hrs & 29 min', '14.5145528', '35.8989085'),\n",
       " 'Basel': ('4,091 km', '43 hrs & 38 min', '7.5885761', '47.5595986'),\n",
       " 'Doha': ('2,105 km', '21 hrs & 58 min', '51.53103979999999', '25.2854473')}"
      ]
     },
     "execution_count": 1634,
     "metadata": {},
     "output_type": "execute_result"
    }
   ],
   "source": [
    "dict_ans"
   ]
  },
  {
   "cell_type": "markdown",
   "metadata": {},
   "source": [
    "---"
   ]
  },
  {
   "cell_type": "markdown",
   "metadata": {},
   "source": [
    "### Print the information on the screen clearly for each destination, feel free to do so as you wish, as long as it is clear"
   ]
  },
  {
   "cell_type": "code",
   "execution_count": 1635,
   "metadata": {},
   "outputs": [
    {
     "name": "stdout",
     "output_type": "stream",
     "text": [
      "\u001b[1m\u001b[4mIstanbul:\u001b[0m\u001b[0m\n",
      "The distance from Jerusalem is 1,809 km\n",
      "The arrival time from Jerusalem in hours and minutes is 20 hrs & 38 min\n",
      "longitude and latitude of Istanbul is lng:28.9783589 and lat:41.0082376\n",
      "\n",
      "\n",
      "\u001b[1m\u001b[4mAmsterdam:\u001b[0m\u001b[0m\n",
      "The distance from Jerusalem is 4,528 km\n",
      "The arrival time from Jerusalem in hours and minutes is 47 hrs & 28 min\n",
      "longitude and latitude of Amsterdam is lng:4.9041389 and lat:52.3675734\n",
      "\n",
      "\n",
      "\u001b[1m\u001b[4mValletta:\u001b[0m\u001b[0m\n",
      "The distance from Jerusalem is 3,783 km\n",
      "The arrival time from Jerusalem in hours and minutes is 50 hrs & 29 min\n",
      "longitude and latitude of Valletta is lng:14.5145528 and lat:35.8989085\n",
      "\n",
      "\n",
      "\u001b[1m\u001b[4mBasel:\u001b[0m\u001b[0m\n",
      "The distance from Jerusalem is 4,091 km\n",
      "The arrival time from Jerusalem in hours and minutes is 43 hrs & 38 min\n",
      "longitude and latitude of Basel is lng:7.5885761 and lat:47.5595986\n",
      "\n",
      "\n",
      "\u001b[1m\u001b[4mDoha:\u001b[0m\u001b[0m\n",
      "The distance from Jerusalem is 2,105 km\n",
      "The arrival time from Jerusalem in hours and minutes is 21 hrs & 58 min\n",
      "longitude and latitude of Doha is lng:51.53103979999999 and lat:25.2854473\n",
      "\n",
      "\n"
     ]
    }
   ],
   "source": [
    "for keys,values in dict_ans.items():\n",
    "    print('\\033[1m'+'\\033[4m' +'{keys}:'.format(keys=keys)+ '\\033[0m'+'\\033[0m')\n",
    "    print(\"The distance from Jerusalem is {values}\".format(values=values[0]))\n",
    "    print(\"The arrival time from Jerusalem in hours and minutes is {values}\".format(values=values[1]))\n",
    "    print(\"longitude and latitude of {keys} is lng:{lng} and lat:{lat}\".format(keys=keys,lng=values[2],lat=values[3]))\n",
    "    print('\\n')"
   ]
  },
  {
   "cell_type": "markdown",
   "metadata": {},
   "source": [
    "---"
   ]
  },
  {
   "cell_type": "markdown",
   "metadata": {},
   "source": [
    "### Find the 3 cities furthest from Jerusalem:\n",
    "#### I stored all the values of the KM in another dictionary and then used sorted function that can sort the keys by value and then print the first 3 keys"
   ]
  },
  {
   "cell_type": "code",
   "execution_count": 1626,
   "metadata": {},
   "outputs": [
    {
     "data": {
      "text/plain": [
       "['Amsterdam', 'Basel', 'Valletta']"
      ]
     },
     "execution_count": 1626,
     "metadata": {},
     "output_type": "execute_result"
    }
   ],
   "source": [
    "sorted_dict={}\n",
    "for key,val in dict_ans.items():\n",
    "    sorted_dict[key]=val[0]\n",
    "sorted(sorted_dict, key=sorted_dict.get, reverse=True)[:3]"
   ]
  }
 ],
 "metadata": {
  "kernelspec": {
   "display_name": "Python 3",
   "language": "python",
   "name": "python3"
  },
  "language_info": {
   "codemirror_mode": {
    "name": "ipython",
    "version": 3
   },
   "file_extension": ".py",
   "mimetype": "text/x-python",
   "name": "python",
   "nbconvert_exporter": "python",
   "pygments_lexer": "ipython3",
   "version": "3.8.3"
  }
 },
 "nbformat": 4,
 "nbformat_minor": 4
}
